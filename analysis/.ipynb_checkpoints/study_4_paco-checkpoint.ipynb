{
 "cells": [
  {
   "cell_type": "code",
   "execution_count": 1,
   "metadata": {},
   "outputs": [],
   "source": [
    "%matplotlib inline"
   ]
  },
  {
   "cell_type": "code",
   "execution_count": 2,
   "metadata": {},
   "outputs": [
    {
     "name": "stderr",
     "output_type": "stream",
     "text": [
      "/usr/local/lib/python2.7/site-packages/librosa/core/audio.py:33: UserWarning: Could not import scikits.samplerate. Falling back to scipy.signal\n",
      "  warnings.warn('Could not import scikits.samplerate. '\n",
      "/usr/local/lib/python2.7/site-packages/sklearn/cross_validation.py:41: DeprecationWarning: This module was deprecated in version 0.18 in favor of the model_selection module into which all the refactored classes and functions are moved. Also note that the interface of the new CV iterators are different from that of this module. This module will be removed in 0.20.\n",
      "  \"This module will be removed in 0.20.\", DeprecationWarning)\n"
     ]
    }
   ],
   "source": [
    "import numpy as np\n",
    "import scipy as sp\n",
    "import librosa\n",
    "import matplotlib.pyplot as plt\n",
    "import csv, glob, math, copy, itertools, random\n",
    "import seaborn as sns\n",
    "from sklearn import svm \n",
    "from sklearn.discriminant_analysis import LinearDiscriminantAnalysis as LDA \n",
    "from sklearn import cross_validation\n",
    "from sklearn import datasets \n",
    "from sklearn import metrics\n",
    "from sklearn.preprocessing import normalize\n",
    "\n",
    "#from spectral_centroid import spectral_centroid"
   ]
  },
  {
   "cell_type": "code",
   "execution_count": 3,
   "metadata": {},
   "outputs": [],
   "source": [
    "def spectral_centroid(D, fft_freqs):\n",
    "    D = np.abs(D) # Strip complex part and take magnitudes\n",
    "    # Find peak amplitude\n",
    "    mag_sums = np.sum(D,0)\n",
    "    peak_mag = mag_sums.max()\n",
    "    scs = []\n",
    "    for t in range(np.shape(D)[1]):\n",
    "        D_at_t = D[:, t]\n",
    "        spectral_sum = np.sum(D_at_t)\n",
    "        if(spectral_sum < 1.0):             # Don't let denominator drop < 1 to avoid blow-up\n",
    "            spectral_sum = 1.0\n",
    "         \n",
    "        # \"Silence\" in these signals doesn't have the same HF noise issues as \n",
    "        # audio recording, and we're dealing with lower frequencies in general,\n",
    "        # so this check doesn't make sense here.\n",
    "        #if(mag_sums[t] < peak_mag * 0.05):  # If the magnitude is < 5% of peak\n",
    "        #    scs.append(0.0)                 # don't calculate centroid\n",
    "            \n",
    "        else:\n",
    "            scs.append(np.sum(fft_freqs * D_at_t) / spectral_sum)\n",
    "\n",
    "    return(scs)"
   ]
  },
  {
   "cell_type": "code",
   "execution_count": 4,
   "metadata": {},
   "outputs": [],
   "source": [
    "# Path to PACO here\n",
    "base_path = '/Users/beau/Desktop/Projects/Universal Contours/Analysis - Frequency Spectrum/movement analysis/PACO point light ptd/'"
   ]
  },
  {
   "cell_type": "markdown",
   "metadata": {},
   "source": [
    "<img src=\"PACO_JointIndex.jpg\">"
   ]
  },
  {
   "cell_type": "code",
   "execution_count": 5,
   "metadata": {},
   "outputs": [],
   "source": [
    "ptd_dirs = glob.glob(base_path + \"*_pt\")\n",
    "paco_sampling_rate = 60.0    # The PACO Body Movement Library is sampled at 60 Hz"
   ]
  },
  {
   "cell_type": "code",
   "execution_count": 6,
   "metadata": {},
   "outputs": [],
   "source": [
    "angry_paths = []\n",
    "sad_paths = []\n",
    "\n",
    "for d in ptd_dirs:\n",
    "    dir_angry_paths = glob.glob(d + \"/*walk_an*.ptd\")\n",
    "    angry_paths += dir_angry_paths\n",
    "    dir_sad_paths = glob.glob(d + \"/*walk_sa*.ptd\")\n",
    "    sad_paths += dir_sad_paths"
   ]
  },
  {
   "cell_type": "code",
   "execution_count": 7,
   "metadata": {},
   "outputs": [],
   "source": [
    "# Z-scoring the data and using all three axes per joint\n",
    "\n",
    "def paco_to_joints(path):\n",
    "    \"\"\"\n",
    "    Split a file into time-series by joint. Each joint is an array of time-series arrays,\n",
    "    where index 0, is x, 1 is y, and 2 is z.\n",
    "    \"\"\"\n",
    "    joint_start_indexes = range(0,45,3)\n",
    "    joints = []\n",
    "    for i in joint_start_indexes:\n",
    "        joints.append([[],[],[]])         # Start with an array of empty joint arrays\n",
    "    \n",
    "    with open(path, 'r') as ptd_file:\n",
    "        reader = csv.reader(ptd_file, delimiter=' ')\n",
    "        for n, row in enumerate(reader):\n",
    "            if n > 0:    # First row is not a joint\n",
    "                for joint_number, row_index in enumerate(joint_start_indexes):\n",
    "                    joints[joint_number][0].append(float(row[row_index]))\n",
    "                    joints[joint_number][1].append(float(row[row_index + 1]))\n",
    "                    joints[joint_number][2].append(float(row[row_index + 2]))\n",
    "    \n",
    "    return(joints)"
   ]
  },
  {
   "cell_type": "code",
   "execution_count": 8,
   "metadata": {},
   "outputs": [],
   "source": [
    "def joints_to_scs(joints, nfft=256, overlap=128):\n",
    "    \"\"\"\n",
    "    Given an array of joint arrays (like from paco_to_joints()), convert all of the \n",
    "    joint time series to spectrograms and spectral centroid time series.\n",
    "    \"\"\"\n",
    "    spectrograms = []\n",
    "    scs = []\n",
    "    for i in range(len(joints)):\n",
    "        spectrograms.append([[],[],[]])\n",
    "        scs.append([[],[],[]])\n",
    "    \n",
    "    # Iterate over joints and axes\n",
    "    for i in range(len(joints)):\n",
    "        for j in range(len(joints[i])):\n",
    "            spectrogram = plt.specgram(joints[i][j], NFFT=nfft, noverlap=overlap, Fs=paco_sampling_rate)\n",
    "            spectrograms[i][j] = spectrogram\n",
    "            sc = spectral_centroid(spectrogram[0], spectrogram[1])\n",
    "            scs[i][j] = sc\n",
    "    \n",
    "    return(scs, spectrograms)"
   ]
  },
  {
   "cell_type": "code",
   "execution_count": 9,
   "metadata": {},
   "outputs": [],
   "source": [
    "def mean_subject_scs(subjects_sc_list):\n",
    "    \"\"\"\n",
    "    Take a list of lists of subject lists of spectral info and return a list of \n",
    "    subject SC means for each joint and axis.\n",
    "    \"\"\"\n",
    "    subjects_sc_means = []\n",
    "    \n",
    "    for subject in subjects_sc_list:\n",
    "        joints = subject[0]\n",
    "        joint_list = []\n",
    "        for joint in joints:\n",
    "            axis_means = []\n",
    "            for axis_index, axis in enumerate(joint):\n",
    "                axis_mean = np.mean(axis)\n",
    "                axis_means.append(axis_mean)\n",
    "            joint_list.append(axis_means)\n",
    "        subjects_sc_means.append(joint_list)\n",
    "    \n",
    "    return(subjects_sc_means)"
   ]
  },
  {
   "cell_type": "code",
   "execution_count": 10,
   "metadata": {},
   "outputs": [],
   "source": [
    "angry_subjects = map(paco_to_joints, angry_paths)\n",
    "sad_subjects = map(paco_to_joints, sad_paths)"
   ]
  },
  {
   "cell_type": "code",
   "execution_count": 11,
   "metadata": {},
   "outputs": [
    {
     "name": "stderr",
     "output_type": "stream",
     "text": [
      "/usr/local/lib/python2.7/site-packages/matplotlib/axes/_axes.py:7221: RuntimeWarning: divide by zero encountered in log10\n",
      "  Z = 10. * np.log10(spec)\n"
     ]
    },
    {
     "data": {
      "image/png": "[encoded data removed]",
      "text/plain": [
       "<matplotlib.figure.Figure at 0x1160c0190>"
      ]
     },
     "metadata": {},
     "output_type": "display_data"
    }
   ],
   "source": [
    "angry_spec_info = map(joints_to_scs, angry_subjects);\n",
    "sad_spec_info = map(joints_to_scs, sad_subjects);"
   ]
  },
  {
   "cell_type": "code",
   "execution_count": 12,
   "metadata": {},
   "outputs": [],
   "source": [
    "angry_mean_scs = mean_subject_scs(angry_spec_info)\n",
    "sad_mean_scs = mean_subject_scs(sad_spec_info)"
   ]
  },
  {
   "cell_type": "code",
   "execution_count": 14,
   "metadata": {},
   "outputs": [],
   "source": [
    "def select_mean_scs_for_joint_index(mean_scs, joint_index):\n",
    "    output = []\n",
    "    for subject in mean_scs:\n",
    "        output.append(subject[joint_index])\n",
    "    return(output)"
   ]
  },
  {
   "cell_type": "code",
   "execution_count": 15,
   "metadata": {},
   "outputs": [],
   "source": [
    "def classify_3d_joint_index(all_joints_a, all_joints_b, joint_index, cv_val=10):\n",
    "    selected_joints_a = select_mean_scs_for_joint_index(all_joints_a, joint_index)\n",
    "    selected_joints_b = select_mean_scs_for_joint_index(all_joints_b, joint_index)\n",
    "    return(classify_3d(selected_joints_a, selected_joints_b, cv_val))\n",
    "    \n",
    "def classify_3d(mean_scs_a, mean_scs_b, cv_val=2, permutation_test=False):\n",
    "    clf = LDA() \n",
    "    X = np.array(mean_scs_a + mean_scs_b)\n",
    "    y = [\"A\"] * len(mean_scs_a) + [\"B\"] * len(mean_scs_b)\n",
    "    if(permutation_test):\n",
    "        random.shuffle(y)\n",
    "    scores = cross_validation.cross_val_score(clf, X, y, cv=cv_val)\n",
    "    return((scores.mean(), scores.std()))\n",
    "\n",
    "classify_3d_angry_sad = lambda i: classify_3d_joint_index(angry_mean_scs, sad_mean_scs, i)\n",
    "classify_3d_happy_neutral = lambda i: classify_3d_joint_index(happy_mean_scs, neutral_mean_scs, i)\n",
    "classify_3d_happy_angry = lambda i: classify_3d_joint_index(happy_mean_scs, angry_mean_scs, i)"
   ]
  },
  {
   "cell_type": "code",
   "execution_count": 16,
   "metadata": {},
   "outputs": [],
   "source": [
    "angry_sad_classification_results = map(classify_3d_angry_sad, range(0, 15))"
   ]
  },
  {
   "cell_type": "code",
   "execution_count": 17,
   "metadata": {},
   "outputs": [
    {
     "data": {
      "text/plain": [
       "[(0.85833333333333317, 0.098952850725315969),\n",
       " (0.84999999999999998, 0.10408329997330663),\n",
       " (0.89166666666666683, 0.098952850725315969),\n",
       " (0.89166666666666661, 0.09166666666666666),\n",
       " (0.91666666666666674, 0.091287092917527679),\n",
       " (0.875, 0.1070436048222094),\n",
       " (0.88333333333333319, 0.10000000000000001),\n",
       " (0.88333333333333341, 0.09279607271383368),\n",
       " (0.86666666666666659, 0.10671873729054748),\n",
       " (0.88333333333333319, 0.092796072713833694),\n",
       " (0.89166666666666661, 0.09166666666666666),\n",
       " (0.93333333333333335, 0.081649658092772595),\n",
       " (0.87499999999999978, 0.10704360482220941),\n",
       " (0.88333333333333341, 0.10671873729054748),\n",
       " (0.92500000000000004, 0.078616509433805035)]"
      ]
     },
     "execution_count": 17,
     "metadata": {},
     "output_type": "execute_result"
    }
   ],
   "source": [
    "# Classification results per joint, using each axis as a feature\n",
    "angry_sad_classification_results"
   ]
  },
  {
   "cell_type": "code",
   "execution_count": 18,
   "metadata": {},
   "outputs": [
    {
     "data": {
      "text/plain": [
       "0.93333333333333335"
      ]
     },
     "execution_count": 18,
     "metadata": {},
     "output_type": "execute_result"
    }
   ],
   "source": [
    "angry_sad_joints_np = np.asarray(angry_sad_classification_results)\n",
    "max(angry_sad_joints_np[:,0])"
   ]
  },
  {
   "cell_type": "code",
   "execution_count": 19,
   "metadata": {},
   "outputs": [
    {
     "data": {
      "text/plain": [
       "0.84999999999999998"
      ]
     },
     "execution_count": 19,
     "metadata": {},
     "output_type": "execute_result"
    }
   ],
   "source": [
    "min(angry_sad_joints_np[:,0])"
   ]
  },
  {
   "cell_type": "code",
   "execution_count": 20,
   "metadata": {},
   "outputs": [
    {
     "data": {
      "text/plain": [
       "array([ 0.88722222,  0.09666616])"
      ]
     },
     "execution_count": 20,
     "metadata": {},
     "output_type": "execute_result"
    }
   ],
   "source": [
    "np.mean(angry_sad_joints_np, axis=0)"
   ]
  },
  {
   "cell_type": "code",
   "execution_count": 21,
   "metadata": {},
   "outputs": [
    {
     "data": {
      "text/plain": [
       "0.66666666666666663"
      ]
     },
     "execution_count": 21,
     "metadata": {},
     "output_type": "execute_result"
    }
   ],
   "source": [
    "np.sum(np.array(angry_sad_classification_results)[:,0] > .875) / float(len(angry_sad_classification_results))"
   ]
  },
  {
   "cell_type": "code",
   "execution_count": 22,
   "metadata": {},
   "outputs": [],
   "source": [
    "# Flattens each of the subjects, so each joint-axis is a feature.\n",
    "\n",
    "def classify_whole_body(all_joints_a, all_joints_b, cv_val=5, permutation_test=False):\n",
    "    flatten_subject = lambda i, subject_list: list(itertools.chain(*subject_list[i]))\n",
    "    flatten_a = lambda i: flatten_subject(i, all_joints_a)\n",
    "    flatten_b = lambda i: flatten_subject(i, all_joints_b)\n",
    "    \n",
    "    flattened_a = map(flatten_a, range(0, len(all_joints_a)))\n",
    "    flattened_b = map(flatten_b, range(0, len(all_joints_b)))\n",
    "\n",
    "    return(classify_3d(flattened_a, flattened_b, cv_val, permutation_test))\n",
    "\n",
    "# Now just to make sure I didn't mess that up...\n",
    "def classify_whole_body_simple(all_joints_a, all_joints_b, cv_val=5, permutation_test=False):\n",
    "    all_joints_a_flat = copy.deepcopy(all_joints_a)\n",
    "    for i in range(len(all_joints_a_flat)):\n",
    "        all_joints_a_flat[i] = list(itertools.chain(*all_joints_a_flat[i]))\n",
    "        \n",
    "    all_joints_b_flat = copy.deepcopy(all_joints_b)\n",
    "    for i in range(len(all_joints_b_flat)):\n",
    "        all_joints_b_flat[i] = list(itertools.chain(*all_joints_b_flat[i]))\n",
    "        \n",
    "    return(classify_3d(all_joints_a_flat, all_joints_b_flat, cv_val, permutation_test))"
   ]
  },
  {
   "cell_type": "code",
   "execution_count": 23,
   "metadata": {},
   "outputs": [
    {
     "data": {
      "text/plain": [
       "(0.78333333333333333, 0.061237243569579478)"
      ]
     },
     "execution_count": 23,
     "metadata": {},
     "output_type": "execute_result"
    }
   ],
   "source": [
    "angry_sad_whole_body = classify_whole_body(angry_mean_scs, sad_mean_scs)\n",
    "angry_sad_whole_body"
   ]
  },
  {
   "cell_type": "code",
   "execution_count": 24,
   "metadata": {},
   "outputs": [
    {
     "data": {
      "text/plain": [
       "[[[0.15122988855753078, 0.16808422510592266, 0.07886782120231417],\n",
       "  [0.150425312366914, 0.1669883725728821, 0.078837832524800908],\n",
       "  [0.14965719407885039, 0.1688722355878913, 0.078874374726849356],\n",
       "  [0.15182118813546575, 0.17408592685154592, 0.078755686005733072],\n",
       "  [0.17434543351480053, 0.22550626633157514, 0.084268962015616608],\n",
       "  [0.15228567436437684, 0.16782471304439406, 0.07885247846054827],\n",
       "  [0.15203194521804803, 0.16903491156291323, 0.078969145159986209],\n",
       "  [0.16573132412220007, 0.18307840680961235, 0.084299427362055715],\n",
       "  [0.15059455737696706, 0.16899120845583604, 0.079073280589517431],\n",
       "  [0.15013710061648325, 0.17048418729369358, 0.079073959377055858],\n",
       "  [0.15904183634246569, 0.1860793166320624, 0.080469055616881738],\n",
       "  [0.16835722738254041, 0.19773759337363689, 0.16347928513511142],\n",
       "  [0.15191281841504048, 0.16945595437548158, 0.079106180281155042],\n",
       "  [0.16341708555449916, 0.18487436697294771, 0.081746513709654661],\n",
       "  [0.169494200596292, 0.19521674796093286, 0.17390500922538749]],\n",
       " [[0.16450770543779328, 0.15796856556689945, 0.078767063588353281],\n",
       "  [0.16376850376730534, 0.15605917058524971, 0.078874223062290721],\n",
       "  [0.1645185461849199, 0.1572487259162916, 0.078916773576080429],\n",
       "  [0.16533294769104198, 0.15816151853537785, 0.07887500391268798],\n",
       "  [0.17951972026208179, 0.1719872859068107, 0.084625618522904428],\n",
       "  [0.1636501138681444, 0.16021186428348821, 0.078898276630284453],\n",
       "  [0.16481094345336669, 0.16628620578858477, 0.079057717552575194],\n",
       "  [0.18439285125923263, 0.19813149557396101, 0.083800099886572929],\n",
       "  [0.16365839989398809, 0.15689760548685006, 0.079077425816378694],\n",
       "  [0.16403411576975688, 0.15768668478941711, 0.079055296271447792],\n",
       "  [0.17387293344309213, 0.17108465766264933, 0.080439083406783268],\n",
       "  [0.18546053950336913, 0.18007143176923471, 0.1701584144824872],\n",
       "  [0.16374872207794267, 0.15861858178736815, 0.079137118058717981],\n",
       "  [0.17235919823081197, 0.17070818664632179, 0.081217997807238804],\n",
       "  [0.18456438461516184, 0.17923307628664092, 0.17254482449982306]]]"
      ]
     },
     "execution_count": 24,
     "metadata": {},
     "output_type": "execute_result"
    }
   ],
   "source": [
    "angry_mean_scs[0:2]"
   ]
  },
  {
   "cell_type": "code",
   "execution_count": 25,
   "metadata": {},
   "outputs": [],
   "source": [
    "all_joints_a_flat = copy.deepcopy(angry_mean_scs)\n",
    "for i in range(len(all_joints_a_flat)):\n",
    "    all_joints_a_flat[i] = list(itertools.chain(*all_joints_a_flat[i]))\n",
    "\n",
    "all_joints_b_flat = copy.deepcopy(sad_mean_scs)\n",
    "for i in range(len(all_joints_b_flat)):\n",
    "    all_joints_b_flat[i] = list(itertools.chain(*all_joints_b_flat[i]))"
   ]
  },
  {
   "cell_type": "code",
   "execution_count": 26,
   "metadata": {},
   "outputs": [],
   "source": [
    "def lda_cv_perm(X, y, n_folds, n_perm):\n",
    "    if(len(X.shape) == 1):\n",
    "        X = X.reshape(X.shape[0], 1)\n",
    "    \n",
    "    cv = cross_validation.StratifiedKFold(y, n_folds)\n",
    "    rs = np.random.RandomState()\n",
    "    \n",
    "    base_fold_acc = []\n",
    "    base_fold_roc = []\n",
    "    base_fold_auc = []\n",
    "    for train, test in cv:\n",
    "        clf = LDA(n_components=1)\n",
    "        fit = clf.fit(X[train], y[train]).transform(X)\n",
    "        pred_bin = clf.predict(X[test])\n",
    "        acc = metrics.accuracy_score(y[test], pred_bin)\n",
    "        base_fold_acc.append(acc)\n",
    "        fold_roc_data = metrics.roc_curve(y[test], \n",
    "                                          pred_bin, \n",
    "                                          pos_label=True)\n",
    "        base_fold_roc.append(fold_roc_data)\n",
    "        base_fold_auc.append(metrics.roc_auc_score(y[test], pred_bin))\n",
    "        \n",
    "    base_acc = np.mean(base_fold_acc)\n",
    "    base_auc = np.mean(base_fold_auc)\n",
    "    \n",
    "    print(\"Base accuracy: {0}  Base AUC: {1}\".format(base_acc, base_auc))\n",
    "    \n",
    "    print(\"Computing null distrubtion from {0} permutations\".format(n_perm))\n",
    "    perm_acc = []\n",
    "    perm_auc = []\n",
    "    \n",
    "    for _ in xrange(n_perm):\n",
    "        perm_fold_acc = []\n",
    "        perm_fold_auc = []\n",
    "        \n",
    "        labels = copy.deepcopy(y)\n",
    "        labels = rs.permutation(labels)\n",
    "        \n",
    "        for train, test in cv:\n",
    "            clf = LDA(n_components=1)\n",
    "            fit = clf.fit(X[train], labels[train]).transform(X)\n",
    "            pred_bin = clf.predict(X[test])\n",
    "            acc = metrics.accuracy_score(y[test], pred_bin)\n",
    "            perm_fold_acc.append(acc)\n",
    "            perm_fold_auc.append(metrics.roc_auc_score(y[test], pred_bin))\n",
    "        \n",
    "        perm_acc.append(np.mean(perm_fold_acc))\n",
    "        perm_auc.append(np.mean(perm_fold_auc))\n",
    "        \n",
    "    p_acc = (np.sum(perm_acc >= base_acc) + 1.0) / (n_perm + 1.0)\n",
    "    p_auc = (np.sum(perm_auc >= base_auc) + 1.0) / (n_perm + 1.0)\n",
    "    \n",
    "    print(\"Accuracy p-value: {0}\".format(p_acc))\n",
    "    print(\"AUC p-value: {0}\".format(p_auc))\n",
    "    \n",
    "    return (base_acc, base_auc, base_fold_roc, p_acc, p_auc)"
   ]
  },
  {
   "cell_type": "code",
   "execution_count": 27,
   "metadata": {},
   "outputs": [
    {
     "name": "stdout",
     "output_type": "stream",
     "text": [
      "Base accuracy: 0.783333333333  Base AUC: 0.783333333333\n",
      "Computing null distrubtion from 2000 permutations\n",
      "Accuracy p-value: 0.000499750124938\n",
      "AUC p-value: 0.000499750124938\n"
     ]
    }
   ],
   "source": [
    "X = np.array(all_joints_a_flat + all_joints_b_flat)\n",
    "y = np.array([True] * len(all_joints_a_flat) + [False] * len(all_joints_b_flat))\n",
    "base_acc, base_auc, base_fold_roc, p_acc, p_auc = lda_cv_perm(X, y, 5, 2000)"
   ]
  },
  {
   "cell_type": "code",
   "execution_count": 28,
   "metadata": {},
   "outputs": [
    {
     "name": "stdout",
     "output_type": "stream",
     "text": [
      "Base accuracy: 0.875  Base AUC: 0.875\n",
      "Computing null distrubtion from 2000 permutations\n",
      "Accuracy p-value: 0.000499750124938\n",
      "AUC p-value: 0.000499750124938\n"
     ]
    }
   ],
   "source": [
    "X = np.array(all_joints_a_flat + all_joints_b_flat)\n",
    "y = np.array([True] * len(all_joints_a_flat) + [False] * len(all_joints_b_flat))\n",
    "base_acc, base_auc, base_fold_roc, p_acc, p_auc = lda_cv_perm(X, y, 10, 2000)"
   ]
  },
  {
   "cell_type": "code",
   "execution_count": 29,
   "metadata": {},
   "outputs": [],
   "source": [
    "from bayesian_logistic import plot_roc"
   ]
  },
  {
   "cell_type": "code",
   "execution_count": 30,
   "metadata": {},
   "outputs": [
    {
     "data": {
      "image/png": "[encoded data removed]",
      "text/plain": [
       "<matplotlib.figure.Figure at 0x1160aaf50>"
      ]
     },
     "metadata": {},
     "output_type": "display_data"
    }
   ],
   "source": [
    "plot_roc(base_fold_roc, display_cv_folds=False, p_auc=p_auc)"
   ]
  },
  {
   "cell_type": "code",
   "execution_count": 31,
   "metadata": {},
   "outputs": [
    {
     "data": {
      "text/plain": [
       "0.98333333333333328"
      ]
     },
     "execution_count": 31,
     "metadata": {},
     "output_type": "execute_result"
    }
   ],
   "source": [
    "clf = LDA(n_components=1)\n",
    "X = np.array(all_joints_a_flat + all_joints_b_flat)\n",
    "y = [\"Angry\"] * len(all_joints_a_flat) + [\"Sad\"] * len(all_joints_b_flat)\n",
    "fit_sc = clf.fit(X, y).transform(X)\n",
    "whole_body_lda_reduce_score_sc = clf.score(X,y)\n",
    "whole_body_lda_reduce_score_sc"
   ]
  },
  {
   "cell_type": "code",
   "execution_count": 32,
   "metadata": {},
   "outputs": [
    {
     "data": {
      "text/plain": [
       "0.875"
      ]
     },
     "execution_count": 32,
     "metadata": {},
     "output_type": "execute_result"
    }
   ],
   "source": [
    "scores = cross_validation.cross_val_score(clf, X, y, cv=10)\n",
    "np.mean(scores)"
   ]
  },
  {
   "cell_type": "code",
   "execution_count": 33,
   "metadata": {},
   "outputs": [
    {
     "data": {
      "text/plain": [
       "<matplotlib.figure.Figure at 0x11aeb2bd0>"
      ]
     },
     "metadata": {},
     "output_type": "display_data"
    },
    {
     "data": {
      "image/png": "[encoded data removed]",
      "text/plain": [
       "<matplotlib.figure.Figure at 0x11aeaa110>"
      ]
     },
     "metadata": {},
     "output_type": "display_data"
    }
   ],
   "source": [
    "sns.set_style(\"ticks\")\n",
    "my_blue = sns.color_palette(\"coolwarm\", 4)[0]\n",
    "my_red = sns.color_palette(\"coolwarm\", 4)[3]\n",
    "fsize = 14\n",
    "\n",
    "num_angry = len(all_joints_a_flat)\n",
    "num_sad   = len(all_joints_b_flat)\n",
    "\n",
    "jitter1 = np.random.rand(num_angry) - 0.5\n",
    "jitter2 = np.random.rand(num_sad) - 0.5\n",
    "\n",
    "\n",
    "plt.figure()\n",
    "fig = plt.figure(figsize=(6,1.5))\n",
    "ax = plt.gca()\n",
    "#plt.scatter(np.repeat(1,num_angry) * jitter1, fit[0:num_angry, 0], color=sns.xkcd_rgb['golden yellow'], s=40, label=\"Angry\")\n",
    "#plt.scatter(np.repeat(1,num_sad) * jitter2, fit[num_angry:num_angry + num_sad, 0], color=sns.xkcd_rgb['windows blue'], s=40, label=\"Sad\")\n",
    "\n",
    "plt.scatter(fit_sc[0:num_angry, 0], np.repeat(1,num_angry) * jitter1, color=my_red, marker='^', s=37, alpha=0.8, label=\"Angry\")\n",
    "plt.scatter(fit_sc[num_angry:num_angry + num_sad, 0], np.repeat(1,num_sad) * jitter2, color=my_blue, s=28, alpha=0.8, label=\"Sad\")\n",
    "\n",
    "plt.legend(bbox_to_anchor=(1.2, 1.06), fontsize=fsize)\n",
    "plt.ylim([-2, 2])\n",
    "plt.tick_params(labelsize=fsize)\n",
    "ax.set_xlabel(\"LD1\", fontsize=fsize)\n",
    "ax.axes.get_yaxis().set_visible(False)\n",
    "\n",
    "plt.title('PACO Body Movement Library\\nProjection on one linear discriminant', fontsize=18, y=1.03)\n",
    "\n",
    "sns.despine(left=True, bottom=True)"
   ]
  },
  {
   "cell_type": "code",
   "execution_count": 34,
   "metadata": {},
   "outputs": [],
   "source": [
    "def classify_LDA_dim_reduce(mean_scs_a, mean_scs_b, dim=1, permutation_test=False):\n",
    "    clf = LDA(n_components=dim) \n",
    "    X = np.array(mean_scs_a + mean_scs_b)\n",
    "    y = [\"A\"] * len(mean_scs_a) + [\"B\"] * len(mean_scs_b)\n",
    "    if(permutation_test):\n",
    "        random.shuffle(y)\n",
    "    fit = clf.fit(X, y).transform(X)\n",
    "    s = clf.score(X,y)\n",
    "    return(s)"
   ]
  },
  {
   "cell_type": "code",
   "execution_count": 35,
   "metadata": {},
   "outputs": [
    {
     "data": {
      "text/plain": [
       "(60, 45)"
      ]
     },
     "execution_count": 35,
     "metadata": {},
     "output_type": "execute_result"
    }
   ],
   "source": [
    "np.array(all_joints_a_flat).shape"
   ]
  },
  {
   "cell_type": "code",
   "execution_count": 36,
   "metadata": {},
   "outputs": [],
   "source": [
    "# p-values using scikit-learn permutation tests:\n",
    "def classify_LDA_dim_reduce_permutation_test(mean_scs_a, mean_scs_b, dim=1):\n",
    "    clf = LDA(n_components=dim)\n",
    "    X = np.array(mean_scs_a + mean_scs_b)\n",
    "    y = np.array([\"A\"] * len(mean_scs_a) + [\"B\"] * len(mean_scs_b))\n",
    "    out = cross_validation.permutation_test_score(clf, X, y, scoring=\"accuracy\", n_permutations=2000, cv=10)\n",
    "    return(out)"
   ]
  },
  {
   "cell_type": "code",
   "execution_count": 37,
   "metadata": {},
   "outputs": [
    {
     "name": "stdout",
     "output_type": "stream",
     "text": [
      "Accuracy: 0.875, p = 0.000499750124938\n"
     ]
    }
   ],
   "source": [
    "acc, res, p = classify_LDA_dim_reduce_permutation_test(all_joints_a_flat, all_joints_b_flat)\n",
    "print(\"Accuracy: {0}, p = {1}\".format(acc, p))"
   ]
  }
 ],
 "metadata": {
  "kernelspec": {
   "display_name": "Python 2",
   "language": "python",
   "name": "python2"
  },
  "language_info": {
   "codemirror_mode": {
    "name": "ipython",
    "version": 2
   },
   "file_extension": ".py",
   "mimetype": "text/x-python",
   "name": "python",
   "nbconvert_exporter": "python",
   "pygments_lexer": "ipython2",
   "version": "2.7.13"
  }
 },
 "nbformat": 4,
 "nbformat_minor": 1
}
