{
 "cells": [
  {
   "cell_type": "markdown",
   "metadata": {},
   "source": [
    "## Spectral centroid versus duration\n",
    "The duration of the sound clips ranges from 0.5 sec to 3.65 sec. "
   ]
  },
  {
   "cell_type": "code",
   "execution_count": 18,
   "metadata": {
    "collapsed": true
   },
   "outputs": [],
   "source": [
    "sounds = {}"
   ]
  },
  {
   "cell_type": "code",
   "execution_count": 19,
   "metadata": {
    "collapsed": true
   },
   "outputs": [],
   "source": [
    "for zscore in range(13):\n",
    "    sounds[zscore] = {}\n",
    "    \n",
    "    types = [\"LFO\", \"ROS\", \"SAW\"]\n",
    "    for method in types: \n",
    "        for num in range(10):\n",
    "            name = method + str(num)\n",
    "            \n",
    "            sounds[zscore][name] = []"
   ]
  },
  {
   "cell_type": "markdown",
   "metadata": {},
   "source": [
    "___\n",
    "** SC, duration, numOnsets, strength onsets **"
   ]
  },
  {
   "cell_type": "code",
   "execution_count": 20,
   "metadata": {
    "collapsed": true
   },
   "outputs": [],
   "source": [
    "%matplotlib inline\n",
    "import cv2\n",
    "import numpy as np\n",
    "import os\n",
    "from matplotlib import pyplot as plt\n",
    "import math\n",
    "from __future__ import division\n",
    "\n",
    "from scipy import stats"
   ]
  },
  {
   "cell_type": "code",
   "execution_count": 21,
   "metadata": {
    "collapsed": false
   },
   "outputs": [],
   "source": [
    "import pandas"
   ]
  },
  {
   "cell_type": "code",
   "execution_count": 22,
   "metadata": {
    "collapsed": false
   },
   "outputs": [],
   "source": [
    "import wave\n",
    "import contextlib\n",
    "import spectral_centroid as scentroid"
   ]
  },
  {
   "cell_type": "code",
   "execution_count": 23,
   "metadata": {
    "collapsed": true
   },
   "outputs": [],
   "source": [
    "from scipy.signal import hilbert"
   ]
  },
  {
   "cell_type": "code",
   "execution_count": 24,
   "metadata": {
    "collapsed": false
   },
   "outputs": [],
   "source": [
    "from scipy.io import wavfile\n",
    "from librosa import onset"
   ]
  },
  {
   "cell_type": "markdown",
   "metadata": {},
   "source": [
    "### Getting information on all the sounds\n",
    "\n",
    "Getting the mean spectral centroid of each of the sound files and the length of each sound"
   ]
  },
  {
   "cell_type": "code",
   "execution_count": 25,
   "metadata": {
    "collapsed": false
   },
   "outputs": [],
   "source": [
    "cwd = os.getcwd()"
   ]
  },
  {
   "cell_type": "code",
   "execution_count": 26,
   "metadata": {
    "collapsed": false
   },
   "outputs": [],
   "source": [
    "sc = []\n",
    "dur = []"
   ]
  },
  {
   "cell_type": "code",
   "execution_count": 27,
   "metadata": {
    "collapsed": false,
    "scrolled": false
   },
   "outputs": [],
   "source": [
    "for i in range(13):\n",
    "    sc_dir = os.path.join(cwd, \"sounds\", str(i))\n",
    "\n",
    "    for method in os.listdir(sc_dir):\n",
    "        sound_method = os.path.join(sc_dir, method)\n",
    "        \n",
    "        if method == \".DS_Store\":\n",
    "            os.remove(sound_method)\n",
    "            continue\n",
    "            \n",
    "        for num in range(10):\n",
    "            sound_file = os.path.join(sound_method, method + str(num))\n",
    "            \n",
    "            if sound_file == \".DS_Store\" + str(num):\n",
    "                os.remove(os.path.join(sound_method, \".DS_Store\"))\n",
    "                continue\n",
    "            \n",
    "            spec = scentroid.mean_sc_for_file(sound_file)\n",
    "            with contextlib.closing(wave.open(sound_file,'r')) as f:\n",
    "                frames = f.getnframes()\n",
    "                rate = f.getframerate()\n",
    "                duration = frames / float(rate)\n",
    "\n",
    "                \n",
    "            sounds[i][method + str(num)].append(spec)\n",
    "            sounds[i][method + str(num)].append(duration)\n",
    "            \n",
    "            dur.append(duration)\n",
    "            sc.append(spec)"
   ]
  },
  {
   "cell_type": "markdown",
   "metadata": {},
   "source": [
    "### Plotting\n",
    "\n",
    "Plotting spectral centroid versus sound duration"
   ]
  },
  {
   "cell_type": "code",
   "execution_count": 28,
   "metadata": {
    "collapsed": false,
    "scrolled": true
   },
   "outputs": [
    {
     "data": {
      "text/plain": [
       "[<matplotlib.lines.Line2D at 0x1191fc310>]"
      ]
     },
     "execution_count": 28,
     "metadata": {},
     "output_type": "execute_result"
    },
    {
     "data": {
      "image/png": "[encoded data removed]",
      "text/plain": [
       "<matplotlib.figure.Figure at 0x11907f490>"
      ]
     },
     "metadata": {},
     "output_type": "display_data"
    }
   ],
   "source": [
    "plt.plot(sc, dur, 'ko')"
   ]
  },
  {
   "cell_type": "markdown",
   "metadata": {},
   "source": [
    "## Spectral centroid versus amplitude envelope"
   ]
  },
  {
   "cell_type": "code",
   "execution_count": 29,
   "metadata": {
    "collapsed": true
   },
   "outputs": [],
   "source": [
    "num_onsets = []\n",
    "onset_strength = []"
   ]
  },
  {
   "cell_type": "code",
   "execution_count": 30,
   "metadata": {
    "collapsed": false
   },
   "outputs": [],
   "source": [
    "for i in range(13):\n",
    "    sc_dir = os.path.join(cwd, \"sounds\", str(i))\n",
    "\n",
    "    for method in os.listdir(sc_dir):\n",
    "        sound_method = os.path.join(sc_dir, method)\n",
    "        \n",
    "        if method == \".DS_Store\":\n",
    "            os.remove(sound_method)\n",
    "            continue\n",
    "            \n",
    "        for num in range(10):\n",
    "            sound_file = os.path.join(sound_method, method + str(num))\n",
    "            \n",
    "            if sound_file == \".DS_Store\" + str(num):\n",
    "                os.remove(os.path.join(sound_method, \".DS_Store\"))\n",
    "                continue\n",
    "            \n",
    "            audio_ts = wavfile.read(sound_file)\n",
    "\n",
    "            onset_data = onset.onset_detect(audio_ts[1], audio_ts[0])\n",
    "            mean_strength = np.mean(onset.onset_strength(audio_ts[1], \n",
    "                                                          audio_ts[0]))\n",
    "\n",
    "            \n",
    "            \n",
    "            sounds[i][method + str(num)].append(len(onset_data))\n",
    "            sounds[i][method + str(num)].append(mean_strength)\n",
    "            \n",
    "            num_onsets.append(len(onset_data))\n",
    "            onset_strength.append(mean_strength)\n",
    "        "
   ]
  },
  {
   "cell_type": "markdown",
   "metadata": {},
   "source": [
    "### Plotting\n",
    "\n",
    "**Spectral centroid versus number of onsets**"
   ]
  },
  {
   "cell_type": "code",
   "execution_count": 31,
   "metadata": {
    "collapsed": false,
    "scrolled": true
   },
   "outputs": [
    {
     "data": {
      "text/plain": [
       "[<matplotlib.lines.Line2D at 0x11b420550>]"
      ]
     },
     "execution_count": 31,
     "metadata": {},
     "output_type": "execute_result"
    },
    {
     "data": {
      "image/png": "[encoded data removed]",
      "text/plain": [
       "<matplotlib.figure.Figure at 0x11955ed50>"
      ]
     },
     "metadata": {},
     "output_type": "display_data"
    }
   ],
   "source": [
    "plt.plot(sc, num_onsets, 'ko')"
   ]
  },
  {
   "cell_type": "markdown",
   "metadata": {},
   "source": [
    "**Spectral centroid versus mean onset strength**"
   ]
  },
  {
   "cell_type": "code",
   "execution_count": 32,
   "metadata": {
    "collapsed": false,
    "scrolled": true
   },
   "outputs": [
    {
     "data": {
      "text/plain": [
       "[<matplotlib.lines.Line2D at 0x11b153450>]"
      ]
     },
     "execution_count": 32,
     "metadata": {},
     "output_type": "execute_result"
    },
    {
     "data": {
      "image/png": "[encoded data removed]",
      "text/plain": [
       "<matplotlib.figure.Figure at 0x11b0915d0>"
      ]
     },
     "metadata": {},
     "output_type": "display_data"
    }
   ],
   "source": [
    "plt.plot(sc, onset_strength, 'ro')"
   ]
  },
  {
   "cell_type": "markdown",
   "metadata": {},
   "source": [
    "### Covariance matrix\n",
    "\n",
    "Spectral centroid vs number of onsets vs mean onset strength"
   ]
  },
  {
   "cell_type": "code",
   "execution_count": 33,
   "metadata": {
    "collapsed": true
   },
   "outputs": [],
   "source": [
    "cov_data = np.array([sc, dur, num_onsets, onset_strength])"
   ]
  },
  {
   "cell_type": "code",
   "execution_count": 34,
   "metadata": {
    "collapsed": false
   },
   "outputs": [],
   "source": [
    "corr = np.corrcoef(cov_data)"
   ]
  },
  {
   "cell_type": "code",
   "execution_count": 36,
   "metadata": {
    "collapsed": false
   },
   "outputs": [
    {
     "data": {
      "text/plain": [
       "array([[  1.00000000e+00,  -7.23000596e-04,  -7.39016953e-02,\n",
       "          2.58281914e-01],\n",
       "       [ -7.23000596e-04,   1.00000000e+00,   6.69086174e-01,\n",
       "         -4.94550201e-02],\n",
       "       [ -7.39016953e-02,   6.69086174e-01,   1.00000000e+00,\n",
       "          1.30895496e-01],\n",
       "       [  2.58281914e-01,  -4.94550201e-02,   1.30895496e-01,\n",
       "          1.00000000e+00]])"
      ]
     },
     "execution_count": 36,
     "metadata": {},
     "output_type": "execute_result"
    }
   ],
   "source": [
    "corr"
   ]
  },
  {
   "cell_type": "code",
   "execution_count": 35,
   "metadata": {
    "collapsed": true
   },
   "outputs": [],
   "source": [
    "corrdf = pandas.DataFrame(data=corr, index=[\"sc\",\"duration\",\"numOnsets\", \"onsetStrength\"], \n",
    "                columns=[\"sc\",\"duration\",\"numOnsets\", \"onsetStrength\"])"
   ]
  },
  {
   "cell_type": "code",
   "execution_count": 37,
   "metadata": {
    "collapsed": true
   },
   "outputs": [],
   "source": [
    "pandas.DataFrame.to_csv(corrdf, \"soundCorr.csv\")"
   ]
  },
  {
   "cell_type": "markdown",
   "metadata": {},
   "source": [
    "___"
   ]
  },
  {
   "cell_type": "markdown",
   "metadata": {
    "collapsed": false
   },
   "source": [
    "### Exporting JSON of sound parameters"
   ]
  },
  {
   "cell_type": "code",
   "execution_count": null,
   "metadata": {
    "collapsed": true
   },
   "outputs": [],
   "source": [
    "import json"
   ]
  },
  {
   "cell_type": "code",
   "execution_count": null,
   "metadata": {
    "collapsed": true
   },
   "outputs": [],
   "source": [
    "soundParameters = os.path.join(os.path.dirname(cwd), \"DATA\", \"soundParameters.json\")"
   ]
  },
  {
   "cell_type": "code",
   "execution_count": null,
   "metadata": {
    "collapsed": true
   },
   "outputs": [],
   "source": [
    "with open(soundParameters, 'w') as f:\n",
    "            json.dump(sounds, f, sort_keys=True, indent=4)"
   ]
  },
  {
   "cell_type": "code",
   "execution_count": null,
   "metadata": {
    "collapsed": true
   },
   "outputs": [],
   "source": [
    "sc = {}"
   ]
  },
  {
   "cell_type": "code",
   "execution_count": null,
   "metadata": {
    "collapsed": true
   },
   "outputs": [],
   "source": [
    "for i in range(13): \n",
    "    sc[i] = {}"
   ]
  },
  {
   "cell_type": "code",
   "execution_count": null,
   "metadata": {
    "collapsed": true
   },
   "outputs": [],
   "source": [
    "for i in range(13):\n",
    "    sc_dir = os.path.join(cwd, \"sounds\", str(i))\n",
    "    print i\n",
    "\n",
    "    for method in os.listdir(sc_dir):\n",
    "        sound_method = os.path.join(sc_dir, method)\n",
    "        \n",
    "        if method == \".DS_Store\":\n",
    "            os.remove(sound_method)\n",
    "            continue\n",
    "            \n",
    "        for num in range(10):\n",
    "            sound_file = os.path.join(sound_method, method + str(num))\n",
    "            \n",
    "            if sound_file == \".DS_Store\" + str(num):\n",
    "                os.remove(os.path.join(sound_method, \".DS_Store\"))\n",
    "                continue\n",
    "            \n",
    "            spec = scentroid.mean_sc_for_file(sound_file)\n",
    "                \n",
    "            sc[i][method + str(num)] = spec"
   ]
  },
  {
   "cell_type": "code",
   "execution_count": null,
   "metadata": {
    "collapsed": true
   },
   "outputs": [],
   "source": [
    "soundSC = os.path.join(os.path.dirname(cwd), \"DATA\", \"soundSC.json\")"
   ]
  },
  {
   "cell_type": "code",
   "execution_count": null,
   "metadata": {
    "collapsed": true
   },
   "outputs": [],
   "source": [
    "with open(soundSC, 'w') as f:\n",
    "            json.dump(sc, f, sort_keys=True, indent=4)"
   ]
  }
 ],
 "metadata": {
  "kernelspec": {
   "display_name": "Python 2",
   "language": "python",
   "name": "python2"
  },
  "language_info": {
   "codemirror_mode": {
    "name": "ipython",
    "version": 2
   },
   "file_extension": ".py",
   "mimetype": "text/x-python",
   "name": "python",
   "nbconvert_exporter": "python",
   "pygments_lexer": "ipython2",
   "version": "2.7.11"
  }
 },
 "nbformat": 4,
 "nbformat_minor": 0
}
