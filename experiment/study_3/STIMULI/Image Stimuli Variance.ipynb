{
 "cells": [
  {
   "cell_type": "markdown",
   "metadata": {},
   "source": [
    "## Bounding box area versus corners\n",
    "Using OpenCV to do image processing and get the area of the bounding box. "
   ]
  },
  {
   "cell_type": "markdown",
   "metadata": {},
   "source": [
    "**corners, bounding box, ratio box to area**"
   ]
  },
  {
   "cell_type": "code",
   "execution_count": 29,
   "metadata": {
    "collapsed": true
   },
   "outputs": [],
   "source": [
    "%matplotlib inline\n",
    "import cv2\n",
    "import numpy as np\n",
    "import os\n",
    "from matplotlib import pyplot as plt\n",
    "import math\n",
    "from __future__ import division\n",
    "\n",
    "from scipy import stats"
   ]
  },
  {
   "cell_type": "code",
   "execution_count": 30,
   "metadata": {
    "collapsed": false
   },
   "outputs": [],
   "source": [
    "import pandas"
   ]
  },
  {
   "cell_type": "code",
   "execution_count": 31,
   "metadata": {
    "collapsed": false,
    "scrolled": true
   },
   "outputs": [],
   "source": [
    "def get_boundingBox(image_path, area=False, rotate=True):\n",
    "    # get the image\n",
    "    im_in = cv2.imread(image_path,0)\n",
    "\n",
    "    # Threshold.\n",
    "    # Set values equal to or above 220 to 0.\n",
    "    # Set values below 220 to 255.\n",
    "\n",
    "    th, im_th = cv2.threshold(im_in, 225, 255, cv2.THRESH_BINARY_INV);\n",
    "\n",
    "    # Copy the thresholded image.\n",
    "    im_floodfill = im_th.copy()\n",
    "\n",
    "    # Mask used to flood filling.\n",
    "    # Notice the size needs to be 2 pixels than the image.\n",
    "    h, w = im_th.shape[:2]\n",
    "    mask = np.zeros((h+2, w+2), np.uint8)\n",
    "\n",
    "    # Floodfill from point (0, 0)\n",
    "    cv2.floodFill(im_floodfill, mask, (0,0), 255);\n",
    "\n",
    "    # Invert floodfilled image\n",
    "    im_floodfill_inv = cv2.bitwise_not(im_floodfill)\n",
    "\n",
    "    # Combine the two images to get the foreground.\n",
    "    im_out = im_th | im_floodfill_inv\n",
    "\n",
    "    im_out, contours,hierarchy = cv2.findContours(im_out, 1, 2)\n",
    "    cnt = contours[0]\n",
    "    cntArea = cv2.contourArea(cnt)\n",
    "    \n",
    "    if rotate:\n",
    "        # Now get the bounding box\n",
    "        rect = cv2.minAreaRect(cnt)\n",
    "        box = cv2.boxPoints(rect)\n",
    "        box = np.int0(box)\n",
    "        if area:\n",
    "            return rect[1][0] * rect[1][1], int(cntArea)\n",
    "\n",
    "        return im_out, box\n",
    "   \n",
    "    else:\n",
    "        x,y,w,h = cv2.boundingRect(cnt)\n",
    "        box = np.array([[x,y],[x,y+h],[x+w, y+h],[x+w,y]])\n",
    "        \n",
    "        if area: \n",
    "            return w*h, int(cntArea)\n",
    "        \n",
    "        return im_out, box\n",
    "    "
   ]
  },
  {
   "cell_type": "markdown",
   "metadata": {},
   "source": [
    "### Testing\n",
    "Testing the bounding box function and printing it out, making sure that the box is correct"
   ]
  },
  {
   "cell_type": "code",
   "execution_count": 34,
   "metadata": {
    "collapsed": false
   },
   "outputs": [
    {
     "name": "stdout",
     "output_type": "stream",
     "text": [
      "0.353531746032\n"
     ]
    },
    {
     "data": {
      "image/png": "[encoded data removed]",
      "text/plain": [
       "<matplotlib.figure.Figure at 0x11874e310>"
      ]
     },
     "metadata": {},
     "output_type": "display_data"
    }
   ],
   "source": [
    "test_image = os.path.join(cwd, \"images\", str(10), \"LC\", \"LC4\")\n",
    "\n",
    "# running function\n",
    "test_box = get_boundingBox(test_image, area=False, rotate=False)\n",
    "\n",
    "# Show the output\n",
    "output = cv2.drawContours(test_box[0],[test_box[1]],0,(255,255,255),2)\n",
    "plt.imshow(output, cmap = 'gray')\n",
    "\n",
    "# Get the area\n",
    "test_box = get_boundingBox(test_image, area=True, rotate=False)\n",
    "print test_box[1]/test_box[0]"
   ]
  },
  {
   "cell_type": "markdown",
   "metadata": {},
   "source": [
    "## Comparing with a straight bounding rectangle\n",
    "Area of bounding box "
   ]
  },
  {
   "cell_type": "code",
   "execution_count": 35,
   "metadata": {
    "collapsed": false
   },
   "outputs": [],
   "source": [
    "cwd = os.getcwd()"
   ]
  },
  {
   "cell_type": "code",
   "execution_count": 36,
   "metadata": {
    "collapsed": true
   },
   "outputs": [],
   "source": [
    "corners = []\n",
    "boxArea = []\n",
    "areaRatio = []"
   ]
  },
  {
   "cell_type": "code",
   "execution_count": 38,
   "metadata": {
    "collapsed": false
   },
   "outputs": [],
   "source": [
    "for i in range(13):\n",
    "    sc_dir = os.path.join(cwd, \"images\", str(i))\n",
    "\n",
    "    for method in os.listdir(sc_dir):\n",
    "        image_method = os.path.join(sc_dir, method)\n",
    "        \n",
    "        if method == \".DS_Store\":\n",
    "            os.remove(image_method)\n",
    "            continue\n",
    "            \n",
    "        for num in range(15):\n",
    "            imageFile = os.path.join(image_method, method + str(num))\n",
    "            \n",
    "            if imageFile == \".DS_Store\" + str(num):\n",
    "                os.remove(os.path.join(image_method, \".DS_Store\"))\n",
    "                continue\n",
    "                \n",
    "            area = get_boundingBox(imageFile, area=True, rotate=False)\n",
    "            if area[0] <= 0:\n",
    "                print \"Bad: \" + imageFile \n",
    "            \n",
    "            corners.append(i+1)\n",
    "            boxArea.append(area[0])    \n",
    "            areaRatio.append(area[1]/area[0])"
   ]
  },
  {
   "cell_type": "markdown",
   "metadata": {},
   "source": [
    "### Plotting \n",
    "Plotting corners versus bounding box area\n"
   ]
  },
  {
   "cell_type": "code",
   "execution_count": 39,
   "metadata": {
    "collapsed": false,
    "scrolled": false
   },
   "outputs": [
    {
     "data": {
      "text/plain": [
       "[<matplotlib.lines.Line2D at 0x119116b10>]"
      ]
     },
     "execution_count": 39,
     "metadata": {},
     "output_type": "execute_result"
    },
    {
     "data": {
      "image/png": "[encoded data removed]",
      "text/plain": [
       "<matplotlib.figure.Figure at 0x114fbe290>"
      ]
     },
     "metadata": {},
     "output_type": "display_data"
    }
   ],
   "source": [
    "plt.plot(corners, boxArea, 'ko')"
   ]
  },
  {
   "cell_type": "markdown",
   "metadata": {},
   "source": [
    "## Bounding box:Area of shape versus corners"
   ]
  },
  {
   "cell_type": "markdown",
   "metadata": {},
   "source": [
    "### Plotting \n",
    "Plotting corners versus bounding box area\n"
   ]
  },
  {
   "cell_type": "code",
   "execution_count": 40,
   "metadata": {
    "collapsed": false,
    "scrolled": true
   },
   "outputs": [
    {
     "data": {
      "text/plain": [
       "[<matplotlib.lines.Line2D at 0x11925a5d0>]"
      ]
     },
     "execution_count": 40,
     "metadata": {},
     "output_type": "execute_result"
    },
    {
     "data": {
      "image/png": "[encoded data removed]",
      "text/plain": [
       "<matplotlib.figure.Figure at 0x114fbef10>"
      ]
     },
     "metadata": {},
     "output_type": "display_data"
    }
   ],
   "source": [
    "plt.plot(corners, areaRatio, 'ko')"
   ]
  },
  {
   "cell_type": "markdown",
   "metadata": {
    "collapsed": true
   },
   "source": [
    "# Correlations"
   ]
  },
  {
   "cell_type": "code",
   "execution_count": 41,
   "metadata": {
    "collapsed": true
   },
   "outputs": [],
   "source": [
    "allData = np.array([corners, boxArea, areaRatio])"
   ]
  },
  {
   "cell_type": "code",
   "execution_count": 42,
   "metadata": {
    "collapsed": false,
    "scrolled": true
   },
   "outputs": [],
   "source": [
    "corr = np.corrcoef(allData)"
   ]
  },
  {
   "cell_type": "code",
   "execution_count": 43,
   "metadata": {
    "collapsed": false
   },
   "outputs": [
    {
     "data": {
      "text/plain": [
       "array([[ 1.        ,  0.29263958, -0.1768541 ],\n",
       "       [ 0.29263958,  1.        , -0.04007765],\n",
       "       [-0.1768541 , -0.04007765,  1.        ]])"
      ]
     },
     "execution_count": 43,
     "metadata": {},
     "output_type": "execute_result"
    }
   ],
   "source": [
    "corr"
   ]
  },
  {
   "cell_type": "markdown",
   "metadata": {},
   "source": [
    "**Saving correlation matrix as csv**"
   ]
  },
  {
   "cell_type": "code",
   "execution_count": 20,
   "metadata": {
    "collapsed": false
   },
   "outputs": [],
   "source": [
    "corrdf = pandas.DataFrame(data=corr, index=[\"corners\",\"boxArea\",\"areaRatio\"], \n",
    "                columns=[\"corners\",\"boxArea\",\"areaRatio\"])"
   ]
  },
  {
   "cell_type": "code",
   "execution_count": 22,
   "metadata": {
    "collapsed": false
   },
   "outputs": [],
   "source": [
    "pandas.DataFrame.to_csv(corrdf, \"shapeCorr.csv\")"
   ]
  }
 ],
 "metadata": {
  "kernelspec": {
   "display_name": "Python 2",
   "language": "python",
   "name": "python2"
  },
  "language_info": {
   "codemirror_mode": {
    "name": "ipython",
    "version": 2
   },
   "file_extension": ".py",
   "mimetype": "text/x-python",
   "name": "python",
   "nbconvert_exporter": "python",
   "pygments_lexer": "ipython2",
   "version": "2.7.11"
  }
 },
 "nbformat": 4,
 "nbformat_minor": 0
}
