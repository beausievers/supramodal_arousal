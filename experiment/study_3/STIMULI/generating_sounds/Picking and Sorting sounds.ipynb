{
 "cells": [
  {
   "cell_type": "markdown",
   "metadata": {},
   "source": [
    "## Sorting sounds based on spectral centroid\n",
    "---\n",
    "\n",
    "Sounds were sorted into bins based on spectral centroid. 13 bins to reflect equal distribution of the range of spectral centroid: 0-1950. Bins of size 150: includes lower bound, does not include upper bound. Sounds are sorted but retain the information in the filename that specifies the specific generator that created the sound. This sorts all the sounds that are made. \n",
    "\n",
    "---\n",
    "\n",
    "**import libraries**"
   ]
  },
  {
   "cell_type": "code",
   "execution_count": null,
   "metadata": {
    "collapsed": true
   },
   "outputs": [],
   "source": [
    "import spectral_centroid as sc\n",
    "import os\n",
    "import shutil\n",
    "import math"
   ]
  },
  {
   "cell_type": "markdown",
   "metadata": {},
   "source": [
    "Make the directories; bins of 150. (0-150,151-130,etc). Sounds will be placed in the directory less than or equal to bin label. Ex: sound with spectral centroid of 100 will be placed in bin 150. Spectral centroid of 150 placed in bin 300. "
   ]
  },
  {
   "cell_type": "code",
   "execution_count": null,
   "metadata": {
    "collapsed": true
   },
   "outputs": [],
   "source": [
    "cwd = os.getcwd()"
   ]
  },
  {
   "cell_type": "code",
   "execution_count": null,
   "metadata": {
    "collapsed": true
   },
   "outputs": [],
   "source": [
    "for i in range(13):\n",
    "    directory = os.path.join(os.path.dirname(cwd), \"sounds\", str(i))\n",
    "    os.mkdir(directory)"
   ]
  },
  {
   "cell_type": "markdown",
   "metadata": {},
   "source": [
    "**Sorting**  \n",
    "This will move all of the files into directories corresponding to the z-score of the spectral centroid of that file. Moving all the files that were created. We will randomly pick some subset of all of the files next. "
   ]
  },
  {
   "cell_type": "code",
   "execution_count": null,
   "metadata": {
    "collapsed": true
   },
   "outputs": [],
   "source": [
    "for soundfile in os.listdir(cwd, \"unsorted\"):\n",
    "    filename = os.path.join(cwd, \"unsorted\", soundfile)\n",
    "    spec = sc.mean_sc_for_file(filename)\n",
    "    \n",
    "    if spec > 0 and spec < 1950:\n",
    "        dest_dir = str(spec/150)\n",
    "        \n",
    "        #print \"moving into: \" + str(dest_dir)\n",
    "        dest_file = os.path.join(os.path.dirname(cwd), \"sounds\", dest_dir, soundfile)\n",
    "\n",
    "        shutil.move(filename, dest_file)\n",
    "        \n",
    "    else:\n",
    "        os.remove(filename)"
   ]
  },
  {
   "cell_type": "markdown",
   "metadata": {},
   "source": [
    "**Making appropriate subdirectories for each generating method** \n",
    "\n",
    "Moving all the files into directories based on their generating methods"
   ]
  },
  {
   "cell_type": "code",
   "execution_count": null,
   "metadata": {
    "collapsed": true
   },
   "outputs": [],
   "source": [
    "ros_count = 0\n",
    "saw_count = 0\n",
    "lfo_count = 0\n",
    "\n",
    "for zscore in range(13):\n",
    "    zscore_dir = os.path.join(type_dir, str(zscore))\n",
    "\n",
    "        LFO_dir = (os.path.join(type_dir, str(zscore), \"LFO\"))\n",
    "        if not os.path.exists(LFO_dir):\n",
    "            os.mkdir(LFO_dir)\n",
    "\n",
    "        SAW_dir = (os.path.join(type_dir, str(zscore), \"SAW\"))\n",
    "        if not os.path.exists(SAW_dir):\n",
    "            os.mkdir(SAW_dir)\n",
    "\n",
    "        ROS_dir = (os.path.join(type_dir, str(zscore), \"ROS\"))\n",
    "        if not os.path.exists(ROS_dir):\n",
    "            os.mkdir(ROS_dir)\n",
    "\n",
    "        for file in os.listdir(zscore_dir):\n",
    "            if os.path.isdir(os.path.join(zscore_dir, file)):\n",
    "                continue\n",
    "\n",
    "            if file.find(\"LFO\") != -1:\n",
    "                shutil.move(os.path.join(zscore_dir, file),\n",
    "                            os.path.join(LFO_dir, file))\n",
    "                lfo_count += 1\n",
    "\n",
    "            elif file.find(\"SAW\") != -1:\n",
    "                shutil.move(os.path.join(zscore_dir, file),\n",
    "                            os.path.join(SAW_dir, file))\n",
    "                saw_count += 1\n",
    "\n",
    "            elif file.find(\"ROS\") != -1:\n",
    "                shutil.move(os.path.join(zscore_dir, file),\n",
    "                            os.path.join(ROS_dir, file))\n",
    "                ros_count += 1\n"
   ]
  },
  {
   "cell_type": "markdown",
   "metadata": {},
   "source": [
    "**Picking random subset**  \n",
    "Here we pick some random subset of all of the sounds generated. We will pick the same number from each generator; default is set to 10. Can change by changing \"numSounds\" variable"
   ]
  },
  {
   "cell_type": "code",
   "execution_count": 1,
   "metadata": {
    "collapsed": true
   },
   "outputs": [],
   "source": [
    "import itertools\n",
    "import random"
   ]
  },
  {
   "cell_type": "code",
   "execution_count": 2,
   "metadata": {
    "collapsed": true
   },
   "outputs": [],
   "source": [
    "numSounds = 10"
   ]
  },
  {
   "cell_type": "code",
   "execution_count": null,
   "metadata": {
    "collapsed": true
   },
   "outputs": [],
   "source": [
    "ros_choices = random.sample(range(ros_count), numSounds)\n",
    "saw_choices = random.sample(range(saw_count), numSounds)\n",
    "lfo_choices = random.sample(range(lfo_count), numSounds)\n",
    "\n",
    "#picking random ros sounds:\n",
    "for num in range(numSounds):\n",
    "    ros = ros_choices[num]\n",
    "    ros_file = \"ROS_\" + str(ros)\n",
    "    shutil.move(os.path.join(scDir, ros_file), os.path.join(scDir, \"ROS\" + str(num)))\n",
    "\n",
    "#picking random saw sounds\n",
    "for num2 in range(numSounds):\n",
    "    saw = saw_choices[num2]\n",
    "    saw_file = \"SAW_\" + str(saw)\n",
    "    shutil.move(os.path.join(scDir, saw_file), os.path.join(scDir,\"SAW\" + str(num2)))\n",
    "\n",
    "#picking random lfo sounds\n",
    "for num3 in range(numSounds):\n",
    "    lfo = lfo_choices[num3]\n",
    "    lfo_file = \"LFO_\" + str(lfo)\n",
    "    shutil.move(os.path.join(scDir, lfo_file), os.path.join(scDir, \"LFO\" + str(num3)))\n",
    "\n",
    "\n",
    "#getting rid of the remainder of the sounds\n",
    "for file in os.listdir(scDir):\n",
    "    if file.find(\"_\") != -1:\n",
    "        os.remove(os.path.join(scDir,file))\n"
   ]
  }
 ],
 "metadata": {
  "kernelspec": {
   "display_name": "Python 2",
   "language": "python",
   "name": "python2"
  },
  "language_info": {
   "codemirror_mode": {
    "name": "ipython",
    "version": 2
   },
   "file_extension": ".py",
   "mimetype": "text/x-python",
   "name": "python",
   "nbconvert_exporter": "python",
   "pygments_lexer": "ipython2",
   "version": "2.7.11"
  }
 },
 "nbformat": 4,
 "nbformat_minor": 0
}
